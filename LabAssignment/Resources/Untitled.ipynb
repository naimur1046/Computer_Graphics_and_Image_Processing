{
 "cells": [
  {
   "cell_type": "code",
   "execution_count": 4,
   "id": "f7abb067",
   "metadata": {},
   "outputs": [
    {
     "name": "stdout",
     "output_type": "stream",
     "text": [
      "Enter the Starting coordinate of x: 20\n",
      "Enter the Starting coordinate of y: 20\n",
      "Enter the end coordinate of x: 30\n",
      "Enter the end coordinate of y: 30\n"
     ]
    },
    {
     "data": {
      "image/png": "[encoded data removed]",
      "text/plain": [
       "<Figure size 640x480 with 1 Axes>"
      ]
     },
     "metadata": {},
     "output_type": "display_data"
    }
   ],
   "source": [
    "import matplotlib.pyplot as plt\n",
    "import numpy as np\n",
    "\n",
    "plt.title(\"Bresenham Algorithm Presentation\")\n",
    "plt.xlabel(\"X Axis\")\n",
    "plt.ylabel(\"Y Axis\")\n",
    "\n",
    "def bres(x1, y1, x2, y2):\n",
    "    x, y = x1, y1\n",
    "    dx = abs(x2 - x1)\n",
    "    dy = abs(y2 - y1)\n",
    "    gradient = dy / float(dx)\n",
    "\n",
    "    if gradient > 1:\n",
    "        dx, dy = dy, dx\n",
    "        x, y = y, x\n",
    "        x1, y1 = y1, x1\n",
    "        x2, y2 = y2, x2\n",
    "\n",
    "    p = 2 * dy - dx\n",
    "    \n",
    "    # Ploting point initialization\n",
    "    xcoordinates = [x]\n",
    "    ycoordinates = [y]\n",
    "\n",
    "    for k in range(2, dx + 2):\n",
    "        if p > 0:\n",
    "            y = y + 1 if y < y2 else y - 1\n",
    "            p = p + 2 * (dy - dx)\n",
    "        else:\n",
    "            p = p + 2 * dy\n",
    "\n",
    "        x = x + 1 if x < x2 else x - 1\n",
    "\n",
    "        xcoordinates.append(x)\n",
    "        ycoordinates.append(y)\n",
    "\n",
    "    # Create a grid of zeros representing the coordinates\n",
    "    grid = np.zeros((max(ycoordinates) + 1, max(xcoordinates) + 1))\n",
    "\n",
    "    # Fill the grid with 1s at the coordinates\n",
    "    for x, y in zip(xcoordinates, ycoordinates):\n",
    "        grid[y, x] = 1\n",
    "\n",
    "    # Show the grid as an image with filled squares\n",
    "    plt.imshow(grid, cmap='gray', origin='lower')\n",
    "    \n",
    "    # Add borders to the blocks\n",
    "    for x, y in zip(xcoordinates, ycoordinates):\n",
    "        plt.plot([x - 0.5, x + 0.5, x + 0.5, x - 0.5, x - 0.5], [y - 0.5, y - 0.5, y + 0.5, y + 0.5, y - 0.5], color='black')\n",
    "\n",
    "    plt.show()\n",
    "\n",
    "def main():\n",
    "    x1 = int(input(\"Enter the Starting coordinate of x: \"))\n",
    "    y1 = int(input(\"Enter the Starting coordinate of y: \"))\n",
    "    x2 = int(input(\"Enter the end coordinate of x: \"))\n",
    "    y2 = int(input(\"Enter the end coordinate of y: \"))\n",
    "\n",
    "    bres(x1, y1, x2, y2)\n",
    "\n",
    "if __name__ == \"__main__\":\n",
    "    main()"
   ]
  },
  {
   "cell_type": "code",
   "execution_count": null,
   "id": "9c150195",
   "metadata": {},
   "outputs": [],
   "source": []
  }
 ],
 "metadata": {
  "kernelspec": {
   "display_name": "Python 3 (ipykernel)",
   "language": "python",
   "name": "python3"
  },
  "language_info": {
   "codemirror_mode": {
    "name": "ipython",
    "version": 3
   },
   "file_extension": ".py",
   "mimetype": "text/x-python",
   "name": "python",
   "nbconvert_exporter": "python",
   "pygments_lexer": "ipython3",
   "version": "3.11.5"
  }
 },
 "nbformat": 4,
 "nbformat_minor": 5
}
